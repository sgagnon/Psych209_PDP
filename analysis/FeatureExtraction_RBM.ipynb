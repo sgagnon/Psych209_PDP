{
 "metadata": {
  "name": "",
  "signature": "sha256:748132b9dda671e9cda59dba28f1cd9122af136cffaf7cdfb2c3ebb6d5c08184"
 },
 "nbformat": 3,
 "nbformat_minor": 0,
 "worksheets": [
  {
   "cells": [
    {
     "cell_type": "heading",
     "level": 1,
     "metadata": {},
     "source": [
      "Feature Extraction w/Restricted Boltzmann Machines"
     ]
    },
    {
     "cell_type": "code",
     "collapsed": false,
     "input": [
      "from __future__ import print_function\n",
      "\n",
      "print(__doc__)\n",
      "\n",
      "import numpy as np\n",
      "import matplotlib.pyplot as plt\n",
      "\n",
      "from scipy.ndimage import convolve\n",
      "from sklearn import linear_model, datasets, metrics\n",
      "from sklearn.cross_validation import train_test_split\n",
      "from sklearn.neural_network import BernoulliRBM\n",
      "from sklearn.pipeline import Pipeline"
     ],
     "language": "python",
     "metadata": {},
     "outputs": [
      {
       "output_type": "stream",
       "stream": "stdout",
       "text": [
        "Automatically created module for IPython interactive environment\n"
       ]
      }
     ],
     "prompt_number": 1
    },
    {
     "cell_type": "heading",
     "level": 2,
     "metadata": {},
     "source": [
      "Define Functions"
     ]
    },
    {
     "cell_type": "code",
     "collapsed": false,
     "input": [
      "def nudge_dataset(X, Y):\n",
      "    \"\"\"\n",
      "    This produces a dataset 5 times bigger than the original one,\n",
      "    by moving the 8x8 images in X around by 1px to left, right, down, up\n",
      "    \"\"\"\n",
      "    direction_vectors = [\n",
      "        [[0, 1, 0],\n",
      "         [0, 0, 0],\n",
      "         [0, 0, 0]],\n",
      "\n",
      "        [[0, 0, 0],\n",
      "         [1, 0, 0],\n",
      "         [0, 0, 0]],\n",
      "\n",
      "        [[0, 0, 0],\n",
      "         [0, 0, 1],\n",
      "         [0, 0, 0]],\n",
      "\n",
      "        [[0, 0, 0],\n",
      "         [0, 0, 0],\n",
      "         [0, 1, 0]]]\n",
      "\n",
      "    shift = lambda x, w: convolve(x.reshape((8, 8)), mode='constant',\n",
      "                                  weights=w).ravel()\n",
      "    X = np.concatenate([X] +\n",
      "                       [np.apply_along_axis(shift, 1, X, vector)\n",
      "                        for vector in direction_vectors])\n",
      "    Y = np.concatenate([Y for _ in range(5)], axis=0)\n",
      "    return X, Y\n"
     ],
     "language": "python",
     "metadata": {},
     "outputs": [],
     "prompt_number": 2
    },
    {
     "cell_type": "code",
     "collapsed": false,
     "input": [
      "# Load Data\n",
      "digits = datasets.load_digits()\n",
      "X = np.asarray(digits.data, 'float32')\n",
      "X, Y = nudge_dataset(X, digits.target)\n",
      "X = (X - np.min(X, 0)) / (np.max(X, 0) + 0.0001)  # 0-1 scaling\n",
      "\n",
      "X_train, X_test, Y_train, Y_test = train_test_split(X, Y,\n",
      "                                                    test_size=0.2,\n",
      "                                                    random_state=0)\n",
      "\n",
      "# Models we will use\n",
      "logistic = linear_model.LogisticRegression()\n",
      "rbm = BernoulliRBM(random_state=0, verbose=True)\n",
      "\n",
      "classifier = Pipeline(steps=[('rbm', rbm), ('logistic', logistic)])"
     ],
     "language": "python",
     "metadata": {},
     "outputs": [],
     "prompt_number": 3
    },
    {
     "cell_type": "code",
     "collapsed": false,
     "input": [
      "X_train[0,:]"
     ],
     "language": "python",
     "metadata": {},
     "outputs": [
      {
       "metadata": {},
       "output_type": "pyout",
       "prompt_number": 9,
       "text": [
        "array([ 0.        ,  0.        ,  0.        ,  0.        ,  0.        ,\n",
        "        0.        ,  0.        ,  0.        ,  0.        ,  0.        ,\n",
        "        0.24999845,  0.9999938 ,  0.9999938 ,  0.9999938 ,  0.18749884,\n",
        "        0.        ,  0.        ,  0.        ,  0.43749729,  0.74999535,\n",
        "        0.81249499,  0.9999938 ,  0.4999969 ,  0.        ,  0.        ,\n",
        "        0.        ,  0.        ,  0.        ,  0.06249961,  0.9999938 ,\n",
        "        0.31249806,  0.        ,  0.        ,  0.06249961,  0.24999845,\n",
        "        0.24999845,  0.43749729,  0.9999938 ,  0.06249961,  0.        ,\n",
        "        0.        ,  0.62499613,  0.9999938 ,  0.9999938 ,  0.9999938 ,\n",
        "        0.9999938 ,  0.56249654,  0.        ,  0.        ,  0.31249806,\n",
        "        0.68749577,  0.81249499,  0.9999938 ,  0.62499613,  0.12499923,\n",
        "        0.        ,  0.        ,  0.        ,  0.        ,  0.68749577,\n",
        "        0.81249499,  0.        ,  0.        ,  0.        ], dtype=float32)"
       ]
      }
     ],
     "prompt_number": 9
    },
    {
     "cell_type": "code",
     "collapsed": false,
     "input": [
      "###############################################################################\n",
      "# Training\n",
      "\n",
      "# Hyper-parameters. These were set by cross-validation,\n",
      "# using a GridSearchCV. Here we are not performing cross-validation to\n",
      "# save time.\n",
      "rbm.learning_rate = 0.06\n",
      "rbm.n_iter = 20\n",
      "# More components tend to give better prediction performance, but larger\n",
      "# fitting time\n",
      "rbm.n_components = 100\n",
      "logistic.C = 6000.0\n",
      "\n",
      "# Training RBM-Logistic Pipeline\n",
      "classifier.fit(X_train, Y_train)\n",
      "\n",
      "# Training Logistic regression\n",
      "logistic_classifier = linear_model.LogisticRegression(C=100.0)\n",
      "logistic_classifier.fit(X_train, Y_train)"
     ],
     "language": "python",
     "metadata": {},
     "outputs": [
      {
       "output_type": "stream",
       "stream": "stdout",
       "text": [
        "[BernoulliRBM] Iteration 1, pseudo-likelihood = -25.39, time = 0.34s\n",
        "[BernoulliRBM] Iteration 2, pseudo-likelihood = -23.77, time = 0.42s"
       ]
      },
      {
       "output_type": "stream",
       "stream": "stdout",
       "text": [
        "\n",
        "[BernoulliRBM] Iteration 3, pseudo-likelihood = -22.94, time = 0.41s"
       ]
      },
      {
       "output_type": "stream",
       "stream": "stdout",
       "text": [
        "\n",
        "[BernoulliRBM] Iteration 4, pseudo-likelihood = -21.91, time = 0.41s"
       ]
      },
      {
       "output_type": "stream",
       "stream": "stdout",
       "text": [
        "\n",
        "[BernoulliRBM] Iteration 5, pseudo-likelihood = -21.69, time = 0.42s"
       ]
      },
      {
       "output_type": "stream",
       "stream": "stdout",
       "text": [
        "\n",
        "[BernoulliRBM] Iteration 6, pseudo-likelihood = -21.06, time = 0.40s"
       ]
      },
      {
       "output_type": "stream",
       "stream": "stdout",
       "text": [
        "\n",
        "[BernoulliRBM] Iteration 7, pseudo-likelihood = -20.89, time = 0.40s"
       ]
      },
      {
       "output_type": "stream",
       "stream": "stdout",
       "text": [
        "\n",
        "[BernoulliRBM] Iteration 8, pseudo-likelihood = -20.64, time = 0.40s"
       ]
      },
      {
       "output_type": "stream",
       "stream": "stdout",
       "text": [
        "\n",
        "[BernoulliRBM] Iteration 9, pseudo-likelihood = -20.36, time = 0.41s"
       ]
      },
      {
       "output_type": "stream",
       "stream": "stdout",
       "text": [
        "\n",
        "[BernoulliRBM] Iteration 10, pseudo-likelihood = -20.09, time = 0.39s"
       ]
      },
      {
       "output_type": "stream",
       "stream": "stdout",
       "text": [
        "\n",
        "[BernoulliRBM] Iteration 11, pseudo-likelihood = -20.08, time = 0.39s"
       ]
      },
      {
       "output_type": "stream",
       "stream": "stdout",
       "text": [
        "\n",
        "[BernoulliRBM] Iteration 12, pseudo-likelihood = -19.82, time = 0.39s"
       ]
      },
      {
       "output_type": "stream",
       "stream": "stdout",
       "text": [
        "\n",
        "[BernoulliRBM] Iteration 13, pseudo-likelihood = -19.64, time = 0.40s"
       ]
      },
      {
       "output_type": "stream",
       "stream": "stdout",
       "text": [
        "\n",
        "[BernoulliRBM] Iteration 14, pseudo-likelihood = -19.61, time = 0.43s"
       ]
      },
      {
       "output_type": "stream",
       "stream": "stdout",
       "text": [
        "\n",
        "[BernoulliRBM] Iteration 15, pseudo-likelihood = -19.57, time = 0.42s"
       ]
      },
      {
       "output_type": "stream",
       "stream": "stdout",
       "text": [
        "\n",
        "[BernoulliRBM] Iteration 16, pseudo-likelihood = -19.41, time = 0.43s"
       ]
      },
      {
       "output_type": "stream",
       "stream": "stdout",
       "text": [
        "\n",
        "[BernoulliRBM] Iteration 17, pseudo-likelihood = -19.30, time = 0.42s"
       ]
      },
      {
       "output_type": "stream",
       "stream": "stdout",
       "text": [
        "\n",
        "[BernoulliRBM] Iteration 18, pseudo-likelihood = -19.25, time = 0.43s"
       ]
      },
      {
       "output_type": "stream",
       "stream": "stdout",
       "text": [
        "\n",
        "[BernoulliRBM] Iteration 19, pseudo-likelihood = -19.27, time = 0.43s"
       ]
      },
      {
       "output_type": "stream",
       "stream": "stdout",
       "text": [
        "\n",
        "[BernoulliRBM] Iteration 20, pseudo-likelihood = -19.01, time = 0.42s"
       ]
      },
      {
       "output_type": "stream",
       "stream": "stdout",
       "text": [
        "\n"
       ]
      },
      {
       "metadata": {},
       "output_type": "pyout",
       "prompt_number": 4,
       "text": [
        "LogisticRegression(C=100.0, class_weight=None, dual=False, fit_intercept=True,\n",
        "          intercept_scaling=1, penalty='l2', random_state=None, tol=0.0001)"
       ]
      }
     ],
     "prompt_number": 4
    },
    {
     "cell_type": "code",
     "collapsed": false,
     "input": [
      "###############################################################################\n",
      "# Evaluation\n",
      "\n",
      "print()\n",
      "print(\"Logistic regression using RBM features:\\n%s\\n\" % (\n",
      "    metrics.classification_report(\n",
      "        Y_test,\n",
      "        classifier.predict(X_test))))\n",
      "\n",
      "print(\"Logistic regression using raw pixel features:\\n%s\\n\" % (\n",
      "    metrics.classification_report(\n",
      "        Y_test,\n",
      "        logistic_classifier.predict(X_test))))\n",
      "\n",
      "###############################################################################"
     ],
     "language": "python",
     "metadata": {},
     "outputs": [
      {
       "output_type": "stream",
       "stream": "stdout",
       "text": [
        "\n",
        "Logistic regression using RBM features:\n",
        "             precision    recall  f1-score   support\n",
        "\n",
        "          0       0.99      0.99      0.99       174\n",
        "          1       0.92      0.95      0.93       184\n",
        "          2       0.95      0.98      0.97       166\n",
        "          3       0.97      0.91      0.94       194\n",
        "          4       0.97      0.95      0.96       186\n",
        "          5       0.93      0.93      0.93       181\n",
        "          6       0.98      0.97      0.97       207\n",
        "          7       0.95      1.00      0.97       154\n",
        "          8       0.90      0.88      0.89       182\n",
        "          9       0.91      0.93      0.92       169\n",
        "\n",
        "avg / total       0.95      0.95      0.95      1797\n",
        "\n",
        "\n",
        "Logistic regression using raw pixel features:\n",
        "             precision    recall  f1-score   support\n",
        "\n",
        "          0       0.85      0.94      0.89       174\n",
        "          1       0.57      0.55      0.56       184\n",
        "          2       0.72      0.85      0.78       166\n",
        "          3       0.76      0.74      0.75       194\n",
        "          4       0.85      0.82      0.84       186\n",
        "          5       0.74      0.75      0.75       181\n",
        "          6       0.93      0.88      0.91       207\n",
        "          7       0.86      0.90      0.88       154\n",
        "          8       0.68      0.55      0.61       182\n",
        "          9       0.71      0.74      0.72       169\n",
        "\n",
        "avg / total       0.77      0.77      0.77      1797\n",
        "\n",
        "\n"
       ]
      }
     ],
     "prompt_number": 5
    },
    {
     "cell_type": "code",
     "collapsed": false,
     "input": [
      "# Plotting\n",
      "\n",
      "plt.figure(figsize=(4.2, 4))\n",
      "for i, comp in enumerate(rbm.components_):\n",
      "    plt.subplot(10, 10, i + 1)\n",
      "    plt.imshow(comp.reshape((8, 8)), cmap=plt.cm.gray_r,\n",
      "               interpolation='nearest')\n",
      "    plt.xticks(())\n",
      "    plt.yticks(())\n",
      "plt.suptitle('100 components extracted by RBM', fontsize=16)\n",
      "plt.subplots_adjust(0.08, 0.02, 0.92, 0.85, 0.08, 0.23)\n",
      "\n",
      "plt.show()"
     ],
     "language": "python",
     "metadata": {},
     "outputs": [
      {
       "metadata": {},
       "output_type": "display_data",
       "png": "[encoded data removed]",
       "text": [
        "<matplotlib.figure.Figure at 0x1076b9d90>"
       ]
      }
     ],
     "prompt_number": 6
    },
    {
     "cell_type": "code",
     "collapsed": false,
     "input": [],
     "language": "python",
     "metadata": {},
     "outputs": [],
     "prompt_number": 6
    },
    {
     "cell_type": "code",
     "collapsed": false,
     "input": [],
     "language": "python",
     "metadata": {},
     "outputs": []
    }
   ],
   "metadata": {}
  }
 ]
}